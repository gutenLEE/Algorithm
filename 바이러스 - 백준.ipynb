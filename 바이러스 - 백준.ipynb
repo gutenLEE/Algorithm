{
 "cells": [
  {
   "cell_type": "code",
   "execution_count": 4,
   "metadata": {},
   "outputs": [
    {
     "name": "stdout",
     "output_type": "stream",
     "text": [
      "7\n",
      "6\n",
      "1 2\n",
      "2 3\n",
      "1 5\n",
      "5 2\n",
      "5 6\n",
      "4 7\n",
      "[1, 2, 3, 5, 6]\n"
     ]
    }
   ],
   "source": [
    "n = int(input())\n",
    "m = int(input())\n",
    "v = 1\n",
    "\n",
    "graph = [[0] * (n + 1) for _ in range(n + 1)]\n",
    "\n",
    "for i in range(m):\n",
    "    x, y = map(int, input().split())\n",
    "    graph[x][y] = 1\n",
    "    graph[y][x] = 1\n",
    "\n",
    "def dfs(v, graph, visited):\n",
    "    \n",
    "    visited += [v]\n",
    "    \n",
    "    for i in range(len(graph[v])):\n",
    "        \n",
    "        if graph[v][i] and i not in visited:\n",
    "            visited = dfs(i, graph, visited)\n",
    "    \n",
    "    result = len(visited) - 1\n",
    "    return result\n",
    "\n",
    "print(dfs(v, graph, []))\n",
    "\n",
    "    \n",
    "   "
   ]
  },
  {
   "cell_type": "code",
   "execution_count": null,
   "metadata": {},
   "outputs": [],
   "source": []
  }
 ],
 "metadata": {
  "kernelspec": {
   "display_name": "Python 3",
   "language": "python",
   "name": "python3"
  },
  "language_info": {
   "codemirror_mode": {
    "name": "ipython",
    "version": 3
   },
   "file_extension": ".py",
   "mimetype": "text/x-python",
   "name": "python",
   "nbconvert_exporter": "python",
   "pygments_lexer": "ipython3",
   "version": "3.6.10"
  }
 },
 "nbformat": 4,
 "nbformat_minor": 4
}

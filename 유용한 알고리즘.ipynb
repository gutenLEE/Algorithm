{
 "cells": [
  {
   "cell_type": "markdown",
   "metadata": {},
   "source": [
    "## 리스트 원소 카운트"
   ]
  },
  {
   "cell_type": "code",
   "execution_count": 4,
   "metadata": {},
   "outputs": [
    {
     "name": "stdout",
     "output_type": "stream",
     "text": [
      "{'사과': 3, '바나나': 2, '포도': 2, '딸기': 2, '파인애플': 1, '메론': 1, '매실': 1}\n"
     ]
    }
   ],
   "source": [
    "fruit = [\"사과\", \"사과\", \"바나나\", \"포도\", \"딸기\", \"바나나\", \"파인애플\", \"메론\", \"딸기\", \"포도\", \"사과\", \"매실\"]\n",
    "\n",
    "dict = {}\n",
    "\n",
    "for f in fruit:\n",
    "    if f in dict:\n",
    "        dict[f] += 1\n",
    "    else:\n",
    "        dict[f] = 1\n",
    "\n",
    "print(dict)"
   ]
  },
  {
   "cell_type": "code",
   "execution_count": null,
   "metadata": {},
   "outputs": [],
   "source": []
  }
 ],
 "metadata": {
  "kernelspec": {
   "display_name": "Python 3",
   "language": "python",
   "name": "python3"
  },
  "language_info": {
   "codemirror_mode": {
    "name": "ipython",
    "version": 3
   },
   "file_extension": ".py",
   "mimetype": "text/x-python",
   "name": "python",
   "nbconvert_exporter": "python",
   "pygments_lexer": "ipython3",
   "version": "3.6.10"
  }
 },
 "nbformat": 4,
 "nbformat_minor": 4
}

{
 "cells": [
  {
   "cell_type": "markdown",
   "metadata": {},
   "source": [
    "# 삽입정렬 기본 코드"
   ]
  },
  {
   "cell_type": "markdown",
   "metadata": {},
   "source": [
    "삽입 정렬은 필요할 때만 위치를 바꾸므로 **'데이터가 거의 정렬 되어 있을 때'** 훨씬 효율적이다.\n",
    "\n",
    "삽입 정렬은 특정한 데이터가 적절한 위치에 들어가기 이전에, 그 앞까지의 데이터는 이미 정렬되어 있다고 가정한다.\n",
    "\n",
    "삽입 정렬은 두 번째 데이터부터 시작한다. 왜냐하면 **첫 번째 데이터는 그 자체로 정렬되어** 있다고 판단하기 때문이다. \n",
    "\n",
    "특정한 데이터 왼쪽에 있는 데이터들은 이미 정렬이 된 상태이므로 자기보다 작은 데이터를 만났다면 더 이상\n",
    "데이터를 살펴볼 필요 없이 그 자리에 삽입되면 되는 것이다.\n",
    "\n",
    "\n",
    "## 시간 복잡도  O(N^2)"
   ]
  },
  {
   "cell_type": "code",
   "execution_count": 5,
   "metadata": {},
   "outputs": [
    {
     "name": "stdout",
     "output_type": "stream",
     "text": [
      "original arr:  [4, 39, 41, 7, 24, 16, 13, 48]\n",
      "i :  1 j :  1\n",
      "[4, 39, 41, 7, 24, 16, 13, 48] \n",
      "\n",
      "i :  2 j :  2\n",
      "[4, 39, 41, 7, 24, 16, 13, 48] \n",
      "\n",
      "i :  3 j :  3\n",
      "[4, 39, 7, 41, 24, 16, 13, 48]\n",
      "i :  3 j :  2\n",
      "[4, 7, 39, 41, 24, 16, 13, 48]\n",
      "i :  3 j :  1\n",
      "[4, 7, 39, 41, 24, 16, 13, 48] \n",
      "\n",
      "i :  4 j :  4\n",
      "[4, 7, 39, 24, 41, 16, 13, 48]\n",
      "i :  4 j :  3\n",
      "[4, 7, 24, 39, 41, 16, 13, 48]\n",
      "i :  4 j :  2\n",
      "[4, 7, 24, 39, 41, 16, 13, 48] \n",
      "\n",
      "i :  5 j :  5\n",
      "[4, 7, 24, 39, 16, 41, 13, 48]\n",
      "i :  5 j :  4\n",
      "[4, 7, 24, 16, 39, 41, 13, 48]\n",
      "i :  5 j :  3\n",
      "[4, 7, 16, 24, 39, 41, 13, 48]\n",
      "i :  5 j :  2\n",
      "[4, 7, 16, 24, 39, 41, 13, 48] \n",
      "\n",
      "i :  6 j :  6\n",
      "[4, 7, 16, 24, 39, 13, 41, 48]\n",
      "i :  6 j :  5\n",
      "[4, 7, 16, 24, 13, 39, 41, 48]\n",
      "i :  6 j :  4\n",
      "[4, 7, 16, 13, 24, 39, 41, 48]\n",
      "i :  6 j :  3\n",
      "[4, 7, 13, 16, 24, 39, 41, 48]\n",
      "i :  6 j :  2\n",
      "[4, 7, 13, 16, 24, 39, 41, 48] \n",
      "\n",
      "i :  7 j :  7\n",
      "[4, 7, 13, 16, 24, 39, 41, 48] \n",
      "\n"
     ]
    }
   ],
   "source": [
    "import random\n",
    "\n",
    "arr = random.sample(range(1, 50), 8)\n",
    "print(\"original arr: \", arr )\n",
    "\n",
    "for i in range(1, len(arr)):\n",
    "    \n",
    "    for j in range(i, 0, -1):\n",
    "        print(\"i : \", i, \"j : \", j)\n",
    "        \n",
    "        if arr[j] < arr[j - 1]:\n",
    "            arr[j], arr[j - 1] = arr[j - 1], arr[j]\n",
    "            print(arr)\n",
    "        \n",
    "        else:\n",
    "            print(arr, \"\\n\")\n",
    "            break\n",
    "    "
   ]
  },
  {
   "cell_type": "code",
   "execution_count": null,
   "metadata": {},
   "outputs": [],
   "source": []
  },
  {
   "cell_type": "code",
   "execution_count": null,
   "metadata": {},
   "outputs": [],
   "source": []
  }
 ],
 "metadata": {
  "kernelspec": {
   "display_name": "Python 3",
   "language": "python",
   "name": "python3"
  },
  "language_info": {
   "codemirror_mode": {
    "name": "ipython",
    "version": 3
   },
   "file_extension": ".py",
   "mimetype": "text/x-python",
   "name": "python",
   "nbconvert_exporter": "python",
   "pygments_lexer": "ipython3",
   "version": "3.6.10"
  }
 },
 "nbformat": 4,
 "nbformat_minor": 4
}

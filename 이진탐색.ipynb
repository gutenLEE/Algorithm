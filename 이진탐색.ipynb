{
 "cells": [
  {
   "cell_type": "markdown",
   "metadata": {},
   "source": [
    "# 이진탐색\n",
    "배열 내부의 **데이터가 정렬**되어 있어야만 사용할 수 있는 알고리즘.\n",
    "탐색 범위가 2,000만을 넘어가면 이진 탐색으로 문제에 접근해보길 권한다. 처리해야 할 데이터의 개수나 값이 1,000만 단위 이상으로 \n",
    "넘어가면 이진 탐색과 같이 O(logN)의 속도를 내야 하는 알고리즘을 떠올려야 문제를 풀 수 있는 경우가 많다는 점을 기억하자. \n",
    "\n",
    "# 시간 복잡도  O(logN)\n",
    "원소의 개수가 절반씩 줄어들기 때문에...\n",
    "\n",
    "# 기본 코드\n",
    "1. 재귀함수\n",
    "2. 반복문"
   ]
  },
  {
   "cell_type": "code",
   "execution_count": null,
   "metadata": {},
   "outputs": [],
   "source": [
    "# 재귀함수 base condition : 원하는 값을 찾았을 때?\n",
    "\n",
    "def binary_search(array, target, start, end):\n",
    "    \n",
    "    if start > end:\n",
    "        return None\n",
    "    \n",
    "    mid = (start + end) // 2\n",
    "    \n",
    "    if array[mid] == target:\n",
    "        return mid\n",
    "    \n",
    "    elif array[mid] > target:\n",
    "        return binary_search(array, target, start, mid-1)\n",
    "    \n",
    "    else:\n",
    "        return binary_earch(array, target, mid+1, end)\n",
    "    \n",
    "\n",
    "n, target = list(map(int, input().split()))\n",
    "array = list(map(int, input().split()))\n",
    "\n",
    "\n",
    "result = binary_search(array, target, 0, n - 1 )\n",
    "\n",
    "if result is None:\n",
    "    print(\"원소가 존재하지 않습니다\")\n",
    "\n",
    "else:\n",
    "    # 인덱스 + 1\n",
    "    print(result + 1)\n",
    "    "
   ]
  },
  {
   "cell_type": "code",
   "execution_count": null,
   "metadata": {},
   "outputs": [],
   "source": [
    "# 반복문\n",
    "\n",
    "def binary_search(array, target, start, end):\n",
    "    \n",
    "    while start <= end:\n",
    "        mid = (start + end) // 2\n",
    "\n",
    "        if array[mid] == target:\n",
    "            return mid\n",
    "\n",
    "        elif array[mid] > target:\n",
    "            end = mid - 1\n",
    "\n",
    "        else:\n",
    "            start = mid + 1\n",
    "            \n",
    "    return None\n",
    "\n",
    "\n",
    "n, target = list(map(int, input().split()))\n",
    "array = list(map(int, input().split()))\n",
    "\n",
    "\n",
    "result = binary_search(array, target, 0, n -1 )\n",
    "\n",
    "if result is None:\n",
    "    print(\"원소가 존재하지 않습니다\")\n",
    "\n",
    "else:\n",
    "    # 인덱스 + 1\n",
    "    print(result + 1)\n",
    "    "
   ]
  },
  {
   "cell_type": "code",
   "execution_count": null,
   "metadata": {},
   "outputs": [],
   "source": []
  },
  {
   "cell_type": "markdown",
   "metadata": {},
   "source": [
    "# 트리 자료구조\n",
    "트리 자료구조는 그래프 자료구조의 일종이다. \n",
    "\n",
    "트리는 부모 노드와 자식 노드의 관계로 표현된다.\n",
    "\n",
    "트리는 파일 시스템과 같이 계층적이고 정렬된 데이터를 다루기에 적합하다. \n",
    "\n",
    "=>> 데이터를 트리 자료구조로 저장해서 이진 탐색과 같은 탐색 기법을 이용해 빠르게 탐색이 가능하다.\n",
    "\n",
    "## 이진 탐색 트리\n",
    "이진 탐색 트리란 이진 탐색이 동작할 수 있도록 고안된, 효율적인 탐색이 가능한 자료구조다.\n",
    "1. 부모 노드보다 왼쪽 자식 노드가 작다. \n",
    "2. 부모 노드보다 오른쪽 자식 노드가 크다. => **왼쪽 자식 노드 < 부모 노드 < 오른쪽 자식 노드**\n",
    "\n",
    "                  30\n",
    "             ↙        ↘\n",
    "            17          48\n",
    "         ↙    ↘    ↙    ↘\n",
    "         5      23  47      50\n",
    "         \n",
    "## 참고\n",
    "\n",
    "이진 탐색 문제는 입력 데이터가 많거나, 탐색 범위가 매우 넓은 편이다. \n",
    "데이터 개수가 1,000만개를 넘어가거나 탐색 범위의 크기가 1,000억 이상이라면 이진 탐색 알고리즘을 의심해보자.\n",
    "\n",
    "이때, 입력 함수 input()을 사용하면 시간 초과로 오답을 받을 수 있다. \n",
    "**=> readline()함수 사용!**"
   ]
  },
  {
   "cell_type": "markdown",
   "metadata": {},
   "source": [
    "## 부품 찾기 - 이.코 199p "
   ]
  },
  {
   "cell_type": "code",
   "execution_count": 8,
   "metadata": {},
   "outputs": [
    {
     "name": "stdout",
     "output_type": "stream",
     "text": [
      "3\n",
      "3 4 5\n",
      "[0, 0, 0, 1, 1, 1, 0, 0, 0, 0]\n"
     ]
    }
   ],
   "source": [
    "# 계수정렬 활용\n",
    "\n",
    "n = int(input())\n",
    "\n",
    "array = [0] * 1000000\n",
    "\n",
    "for i in input().split():\n",
    "    \n",
    "    #  int(i) => i는 문자기 때문에 int()형변환 해준 것\n",
    "    array[int(i)] = 1\n",
    "\n",
    "m = int(input())\n",
    "x = list(map(int, input().split()))\n",
    "\n",
    "for i in x:\n",
    "    \n",
    "    if array[i] == 1:\n",
    "        print('yes', end = ' ')\n",
    "    else:\n",
    "        print('no', end = ' ')"
   ]
  },
  {
   "cell_type": "code",
   "execution_count": null,
   "metadata": {},
   "outputs": [],
   "source": [
    "# set() 활용\n",
    "\n"
   ]
  },
  {
   "cell_type": "markdown",
   "metadata": {},
   "source": [
    "## 떡볶이 떡 만들기\n",
    "\n",
    "### Parametric Search 유형\n",
    "최적화 문제를 *결정 문제*로 바꾸어 해결하는 기법이다. \n",
    "**'원하는 조건을 만족하는 가장 알맞은 값을 찾는 문제'** 에 주로 파라메드릭 서치를 사용한다.\n",
    "\n",
    "(*결정문제* : '예' 혹은 '아니오'로 답하는 문제를 말한다.)\n",
    "\n",
    "---------------------------------------------------------------------------------------------------------------\n",
    "\n",
    "첫째 줄에 떡의 개수 N과 요청한 떡의 길이 M이 주어진다. \n",
    "1 <= N <= 1,000,000\n",
    "1 <= M <= <= 2,000,000,000"
   ]
  },
  {
   "cell_type": "code",
   "execution_count": null,
   "metadata": {},
   "outputs": [],
   "source": [
    "n, m = map(int, input().split())\n",
    "\n",
    "array = list(map(int, input() .split()))\n",
    "\n",
    "start = 0\n",
    "end = max(array)\n",
    "mid = (stard + end) // 2\n",
    "total = 0\n",
    "\n",
    "while start <= end:\n",
    "    \n",
    "    for stick in range(array):\n",
    "        if stick > mid:\n",
    "            total += stick - mid  \n",
    "    \n",
    "    if total < m:\n",
    "        end = mid - 1\n",
    "    else:\n",
    "        result = mid\n",
    "        start = mid + 1\n",
    "        \n",
    "        "
   ]
  },
  {
   "cell_type": "code",
   "execution_count": null,
   "metadata": {},
   "outputs": [],
   "source": []
  },
  {
   "cell_type": "code",
   "execution_count": null,
   "metadata": {},
   "outputs": [],
   "source": []
  },
  {
   "cell_type": "code",
   "execution_count": null,
   "metadata": {},
   "outputs": [],
   "source": []
  },
  {
   "cell_type": "code",
   "execution_count": null,
   "metadata": {},
   "outputs": [],
   "source": []
  },
  {
   "cell_type": "code",
   "execution_count": null,
   "metadata": {},
   "outputs": [],
   "source": []
  }
 ],
 "metadata": {
  "kernelspec": {
   "display_name": "Python 3",
   "language": "python",
   "name": "python3"
  },
  "language_info": {
   "codemirror_mode": {
    "name": "ipython",
    "version": 3
   },
   "file_extension": ".py",
   "mimetype": "text/x-python",
   "name": "python",
   "nbconvert_exporter": "python",
   "pygments_lexer": "ipython3",
   "version": "3.6.10"
  }
 },
 "nbformat": 4,
 "nbformat_minor": 4
}

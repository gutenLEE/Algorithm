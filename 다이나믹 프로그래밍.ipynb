{
 "cells": [
  {
   "cell_type": "markdown",
   "metadata": {},
   "source": [
    "# 다이나믹 프로그래밍\n",
    "- 중복되는 연산을 줄이자.\n",
    "\n",
    "다이나믹 프로그래밍의 사용 조건을 만족하는지 확인한다. \n",
    "1. 최적 부분 구조 :  큰 문제를 작은 문제로 나눌 수 있다.\n",
    "2. 중복되는 부분 문제 : 동일한 작은 문제를 반복적으로 해결한다.\n",
    "\n",
    "### 메모제이션\n",
    "한 번 계산한 결과를 메모리 공간에 메모하는 기법이다.\n",
    "- 같은 문제를 다시 호출하면 메모했던 결과를 그대로 가져온다.\n",
    "- 값을 기록해 놓는다는 점에서 캐싱\n"
   ]
  },
  {
   "cell_type": "markdown",
   "metadata": {},
   "source": [
    "### 피보나치 수 "
   ]
  },
  {
   "cell_type": "code",
   "execution_count": 10,
   "metadata": {},
   "outputs": [
    {
     "name": "stdout",
     "output_type": "stream",
     "text": [
      "2\n",
      "3\n",
      "5\n",
      "8\n",
      "13\n",
      "21\n",
      "34\n",
      "55\n",
      "55\n"
     ]
    }
   ],
   "source": [
    "\n",
    "d = [0]*100\n",
    "\n",
    "def fibo(x):\n",
    "    if x == 1 or x == 2:\n",
    "        return 1\n",
    "    \n",
    "    if d[x] != 0:\n",
    "        return d[x]\n",
    "    \n",
    "    d[x] = fibo(x - 1) + fibo(x - 2)\n",
    "    print(d[x])\n",
    "    \n",
    "    return d[x]\n",
    "\n",
    "print(fibo(10))"
   ]
  },
  {
   "cell_type": "markdown",
   "metadata": {},
   "source": [
    "### 피보나치 수 다이나믹으로 구현 시 호출되는 함수 "
   ]
  },
  {
   "cell_type": "code",
   "execution_count": 14,
   "metadata": {},
   "outputs": [
    {
     "name": "stdout",
     "output_type": "stream",
     "text": [
      "f(6) f(5) f(4) f(3) f(2) f(1) f(2) f(3) f(4) "
     ]
    },
    {
     "data": {
      "text/plain": [
       "8"
      ]
     },
     "execution_count": 14,
     "metadata": {},
     "output_type": "execute_result"
    }
   ],
   "source": [
    "f = [0] * 100\n",
    "\n",
    "def pibo(x):\n",
    "    print('f('+ str(x) + ')', end = ' ')\n",
    "    \n",
    "    if x == 1 or x == 2:\n",
    "        return 1\n",
    "    if f[x] != 0:\n",
    "        return d[x]\n",
    "    f[x] = pibo(x - 1) + pibo(x -2)\n",
    "    return f[x]\n",
    "\n",
    "pibo(6)"
   ]
  },
  {
   "cell_type": "markdown",
   "metadata": {},
   "source": [
    "### 효율적인 화폐구성 228p.\n"
   ]
  },
  {
   "cell_type": "code",
   "execution_count": null,
   "metadata": {},
   "outputs": [],
   "source": [
    "n, m = map(int, input().split())\n",
    "\n",
    "array = []\n",
    "for i in range(n):\n",
    "    array.append(n)\n",
    "    \n",
    "d = [10001] * (m + 1)\n",
    "\n",
    "d[0] = 0\n",
    "\n",
    "for i in range(n):\n",
    "    for j in range(array[i], m + 1):\n",
    "        if d[j - array[j]] != 10001:\n",
    "            d[j] = min(d[j], d[j - array[j]] + 1)\n",
    "\n",
    "if d[m] == 10001:\n",
    "    print(-1)\n",
    "else:\n",
    "    print(d[m])\n",
    "            "
   ]
  },
  {
   "cell_type": "markdown",
   "metadata": {},
   "source": [
    "### 피보나치 수열 2 - 백준 ( https://www.acmicpc.net/problem/2748 )"
   ]
  },
  {
   "cell_type": "code",
   "execution_count": 2,
   "metadata": {},
   "outputs": [
    {
     "name": "stdout",
     "output_type": "stream",
     "text": [
      "10\n",
      "55\n"
     ]
    }
   ],
   "source": [
    "# d[i] = d[i -2] + d[i - 1]\n",
    "\n",
    "n = int(input())\n",
    "\n",
    "d = [-1] * ( n + 1)\n",
    "d[0] = 0\n",
    "d[1] = 1\n",
    "\n",
    "for i in range(2, n + 1):\n",
    "    d[i] = d[i - 2] + d[i - 1]\n",
    "\n",
    "print(d[n])"
   ]
  },
  {
   "cell_type": "markdown",
   "metadata": {},
   "source": [
    "### 01타일 - 백준 (https://www.acmicpc.net/problem/1904)"
   ]
  },
  {
   "cell_type": "code",
   "execution_count": 5,
   "metadata": {},
   "outputs": [
    {
     "name": "stdout",
     "output_type": "stream",
     "text": [
      "4\n",
      "5\n"
     ]
    }
   ],
   "source": [
    "# d[i] = d[i -1]*2 - 1\n",
    "\n",
    "n = int(input())\n",
    "\n",
    "d = [0] * (n + 1)\n",
    "\n",
    "d[0] = 0\n",
    "d[1] = 1\n",
    "d[2] = 2\n",
    "\n",
    "for i in range(3, n + 1):\n",
    "    d[i] =( d[i - 2] + d[i - 1] ) % 15746\n",
    "    \n",
    "print(d[n])"
   ]
  },
  {
   "cell_type": "markdown",
   "metadata": {},
   "source": [
    "### 피반도 수열 - 백준 (https://www.acmicpc.net/problem/9461)"
   ]
  },
  {
   "cell_type": "code",
   "execution_count": null,
   "metadata": {},
   "outputs": [],
   "source": [
    "n = int(input())\n",
    "\n",
    "\n",
    "for _ in range(n):\n",
    "    m = int(input())\n",
    "    d = [1, 1, 1, 2, 2]\n",
    "    \n",
    "    if m > 5:\n",
    "        for i in range(5, m):\n",
    "            d.append(d[i - 1] + d[i - 5])\n",
    "\n",
    "    print(d[m - 1])\n"
   ]
  },
  {
   "cell_type": "markdown",
   "metadata": {},
   "source": [
    "### 설탕 배달 - 백준( https://www.acmicpc.net/problem/2839 )\n",
    "\n",
    " d[j] = min(d[j], d[j - i] + 1) "
   ]
  },
  {
   "cell_type": "code",
   "execution_count": 9,
   "metadata": {},
   "outputs": [
    {
     "name": "stdout",
     "output_type": "stream",
     "text": [
      "4\n",
      "-1\n"
     ]
    }
   ],
   "source": [
    "n = int(input())\n",
    "\n",
    "d = [5001] * 5001\n",
    "d[3], d[5] = 1, 1\n",
    "sugar = [3, 5]\n",
    "\n",
    "if n > 5:\n",
    "    for i in sugar:\n",
    "        for j in range(6, n + 1):\n",
    "            if d[j - i] != 5001:\n",
    "                d[j] = min(d[j], d[j - i] + 1) \n",
    "        print(d)\n",
    "\n",
    "if d[n] == 5001:\n",
    "    print(-1)\n",
    "else:\n",
    "    print(d[n])"
   ]
  },
  {
   "cell_type": "markdown",
   "metadata": {},
   "source": [
    "### 1로 만들기 (https://www.acmicpc.net/problem/1463)\n",
    "\n",
    "(i % j == 0)\n",
    "d[i] = d[i // j] + 1\n",
    "\n",
    "(i % j != 0)\n",
    "d[i] = 1 + d[i - 1]"
   ]
  },
  {
   "cell_type": "code",
   "execution_count": 23,
   "metadata": {},
   "outputs": [
    {
     "name": "stdout",
     "output_type": "stream",
     "text": [
      "10\n",
      "[inf, 1, 1, 1, 2, 3, 2, 3, 4, 5, 6]\n",
      "6\n"
     ]
    }
   ],
   "source": [
    "import math\n",
    "inf = math.inf\n",
    "\n",
    "n = int(input())\n",
    "\n",
    "d = [0] * (n + 1)\n",
    "\n",
    "for i in range(n + 1):\n",
    "    if i == 1:\n",
    "        d[i] = 0\n",
    "        continue\n",
    "    \n",
    "    d[i] = d[i - 1] + 1\n",
    "    if i % 3 == 0 and d[i//3] + 1 < d[i]:\n",
    "        d[i] = d[i//3] + 1\n",
    "    if i % 2 == 0 and d[i//2] + 1 < d[i]:\n",
    "        d[i] = d[i//2] + 1\n",
    "        \n",
    "print(d[n])\n",
    "\n",
    "\n",
    "# d = [inf] * (n + 1)\n",
    "# d[1] , d[2], d[3] = 1, 1, 1\n",
    "\n",
    "# for i in range(4,  n + 1):\n",
    "#     if i % 2 != 0 or i % 3 != 0:\n",
    "#         d[i] = d[1] + d[i -1]\n",
    "#     else:\n",
    "#         if i % 3 == 0 and d[i // 3] < d[i]:\n",
    "#             d[i] = d[i // 3] + 1\n",
    "            \n",
    "#         if i % 2 == 0 and d[i // 2] < d[i]:\n",
    "#             d[i] = d[i // 2] + 1\n",
    "# print(d)\n",
    "# print(d[n])"
   ]
  },
  {
   "cell_type": "markdown",
   "metadata": {},
   "source": [
    "### RGB 거리 - (https://www.acmicpc.net/problem/1149)\n",
    "\n",
    "모든 경우의 수를 다 구해서 최솟값을 리턴.\n",
    "min\n",
    "- d[i][0] = min(d[i-1][1], d[i-1][2]) + d[i][0]\n",
    "- d[i][1] = min(d[i-1][0], d[i-1][2]) + d[i][1]\n",
    "- d[i][2] = min(d[i-1][0], d[i-1][1]) + d[i][2]"
   ]
  },
  {
   "cell_type": "code",
   "execution_count": 1,
   "metadata": {},
   "outputs": [
    {
     "name": "stdout",
     "output_type": "stream",
     "text": [
      "3\n",
      "26 40 83\n",
      "49 60 57\n",
      "13 89 99\n"
     ]
    },
    {
     "ename": "TypeError",
     "evalue": "'map' object is not subscriptable",
     "output_type": "error",
     "traceback": [
      "\u001b[1;31m---------------------------------------------------------------------------\u001b[0m",
      "\u001b[1;31mTypeError\u001b[0m                                 Traceback (most recent call last)",
      "\u001b[1;32m<ipython-input-1-3771646d5863>\u001b[0m in \u001b[0;36m<module>\u001b[1;34m\u001b[0m\n\u001b[0;32m      9\u001b[0m         \u001b[1;32mcontinue\u001b[0m\u001b[1;33m\u001b[0m\u001b[1;33m\u001b[0m\u001b[0m\n\u001b[0;32m     10\u001b[0m \u001b[1;33m\u001b[0m\u001b[0m\n\u001b[1;32m---> 11\u001b[1;33m     \u001b[0md\u001b[0m\u001b[1;33m[\u001b[0m\u001b[0mi\u001b[0m\u001b[1;33m]\u001b[0m\u001b[1;33m[\u001b[0m\u001b[1;36m0\u001b[0m\u001b[1;33m]\u001b[0m \u001b[1;33m=\u001b[0m \u001b[0mmin\u001b[0m\u001b[1;33m(\u001b[0m\u001b[0md\u001b[0m\u001b[1;33m[\u001b[0m\u001b[0mi\u001b[0m\u001b[1;33m-\u001b[0m\u001b[1;36m1\u001b[0m\u001b[1;33m]\u001b[0m\u001b[1;33m[\u001b[0m\u001b[1;36m1\u001b[0m\u001b[1;33m]\u001b[0m\u001b[1;33m,\u001b[0m \u001b[0md\u001b[0m\u001b[1;33m[\u001b[0m\u001b[0mi\u001b[0m\u001b[1;33m-\u001b[0m\u001b[1;36m1\u001b[0m\u001b[1;33m]\u001b[0m\u001b[1;33m[\u001b[0m\u001b[1;36m2\u001b[0m\u001b[1;33m]\u001b[0m\u001b[1;33m)\u001b[0m \u001b[1;33m+\u001b[0m \u001b[0md\u001b[0m\u001b[1;33m[\u001b[0m\u001b[0mi\u001b[0m\u001b[1;33m]\u001b[0m\u001b[1;33m[\u001b[0m\u001b[1;36m0\u001b[0m\u001b[1;33m]\u001b[0m\u001b[1;33m\u001b[0m\u001b[1;33m\u001b[0m\u001b[0m\n\u001b[0m\u001b[0;32m     12\u001b[0m     \u001b[0md\u001b[0m\u001b[1;33m[\u001b[0m\u001b[0mi\u001b[0m\u001b[1;33m]\u001b[0m\u001b[1;33m[\u001b[0m\u001b[1;36m1\u001b[0m\u001b[1;33m]\u001b[0m \u001b[1;33m=\u001b[0m \u001b[0mmin\u001b[0m\u001b[1;33m(\u001b[0m\u001b[0md\u001b[0m\u001b[1;33m[\u001b[0m\u001b[0mi\u001b[0m\u001b[1;33m-\u001b[0m\u001b[1;36m1\u001b[0m\u001b[1;33m]\u001b[0m\u001b[1;33m[\u001b[0m\u001b[1;36m0\u001b[0m\u001b[1;33m]\u001b[0m\u001b[1;33m,\u001b[0m \u001b[0md\u001b[0m\u001b[1;33m[\u001b[0m\u001b[0mi\u001b[0m\u001b[1;33m-\u001b[0m\u001b[1;36m1\u001b[0m\u001b[1;33m]\u001b[0m\u001b[1;33m[\u001b[0m\u001b[1;36m2\u001b[0m\u001b[1;33m]\u001b[0m\u001b[1;33m)\u001b[0m \u001b[1;33m+\u001b[0m \u001b[0md\u001b[0m\u001b[1;33m[\u001b[0m\u001b[0mi\u001b[0m\u001b[1;33m]\u001b[0m\u001b[1;33m[\u001b[0m\u001b[1;36m1\u001b[0m\u001b[1;33m]\u001b[0m\u001b[1;33m\u001b[0m\u001b[1;33m\u001b[0m\u001b[0m\n\u001b[0;32m     13\u001b[0m     \u001b[0md\u001b[0m\u001b[1;33m[\u001b[0m\u001b[0mi\u001b[0m\u001b[1;33m]\u001b[0m\u001b[1;33m[\u001b[0m\u001b[1;36m2\u001b[0m\u001b[1;33m]\u001b[0m \u001b[1;33m=\u001b[0m \u001b[0mmin\u001b[0m\u001b[1;33m(\u001b[0m\u001b[0md\u001b[0m\u001b[1;33m[\u001b[0m\u001b[0mi\u001b[0m\u001b[1;33m-\u001b[0m\u001b[1;36m1\u001b[0m\u001b[1;33m]\u001b[0m\u001b[1;33m[\u001b[0m\u001b[1;36m0\u001b[0m\u001b[1;33m]\u001b[0m\u001b[1;33m,\u001b[0m \u001b[0md\u001b[0m\u001b[1;33m[\u001b[0m\u001b[0mi\u001b[0m\u001b[1;33m-\u001b[0m\u001b[1;36m1\u001b[0m\u001b[1;33m]\u001b[0m\u001b[1;33m[\u001b[0m\u001b[1;36m1\u001b[0m\u001b[1;33m]\u001b[0m\u001b[1;33m)\u001b[0m \u001b[1;33m+\u001b[0m \u001b[0md\u001b[0m\u001b[1;33m[\u001b[0m\u001b[0mi\u001b[0m\u001b[1;33m]\u001b[0m\u001b[1;33m[\u001b[0m\u001b[1;36m2\u001b[0m\u001b[1;33m]\u001b[0m\u001b[1;33m\u001b[0m\u001b[1;33m\u001b[0m\u001b[0m\n",
      "\u001b[1;31mTypeError\u001b[0m: 'map' object is not subscriptable"
     ]
    }
   ],
   "source": [
    "n = int(input())\n",
    "d = []\n",
    "\n",
    "for i in range(n):\n",
    "    d.append( list(map(int, input().split())) )\n",
    "\n",
    "for i in range(len(d)):\n",
    "    if i == 0:\n",
    "        continue\n",
    "        \n",
    "    d[i][0] = min(d[i-1][1], d[i-1][2]) + d[i][0]\n",
    "    d[i][1] = min(d[i-1][0], d[i-1][2]) + d[i][1]\n",
    "    d[i][2] = min(d[i-1][0], d[i-1][1]) + d[i][2]\n",
    "\n",
    "print(min( d[len(d)-1][0], d[len(d)-1][1], d[len(d)-1][2] ))"
   ]
  },
  {
   "cell_type": "markdown",
   "metadata": {},
   "source": [
    "### 백준 - 계단 오르기, 2579 (https://www.acmicpc.net/problem/2579)"
   ]
  },
  {
   "cell_type": "code",
   "execution_count": null,
   "metadata": {},
   "outputs": [],
   "source": [
    "n = int(input())\n",
    "\n",
    "step = [0 for i in range(301)]\n",
    "d = [0 for i in range(301)]\n",
    "\n",
    "for i in range(n):\n",
    "    step[i] = int(input())\n",
    "\n",
    "d[0] = step[0]\n",
    "d[1] = step[0] + step[1]\n",
    "d[2] = max( step[0]+step[2], step[1]+step[2] )\n",
    "\n",
    "for i in range(3, n):\n",
    "    d[i] = max( d[i - 2]+step[i], d[i-3] + step[i-1] + step[i] )\n",
    "             \n",
    "print(d[n - 1])"
   ]
  }
 ],
 "metadata": {
  "kernelspec": {
   "display_name": "Python 3",
   "language": "python",
   "name": "python3"
  },
  "language_info": {
   "codemirror_mode": {
    "name": "ipython",
    "version": 3
   },
   "file_extension": ".py",
   "mimetype": "text/x-python",
   "name": "python",
   "nbconvert_exporter": "python",
   "pygments_lexer": "ipython3",
   "version": "3.6.10"
  }
 },
 "nbformat": 4,
 "nbformat_minor": 4
}

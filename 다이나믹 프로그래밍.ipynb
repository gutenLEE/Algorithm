{
 "cells": [
  {
   "cell_type": "markdown",
   "metadata": {},
   "source": [
    "# 다이나믹 프로그래밍\n",
    "- 중복되는 연산을 줄이자.\n",
    "\n",
    "다이나믹 프로그래밍의 사용 조건을 만족하는지 확인한다. \n",
    "1. 최적 부분 구조 :  큰 문제를 작은 문제로 나눌 수 있다.\n",
    "2. 중복되는 부분 문제 : 동일한 작은 문제를 반복적으로 해결한다.\n",
    "\n",
    "### 메모제이션\n",
    "한 번 계산한 결과를 메모리 공간에 메모하는 기법이다.\n",
    "- 같은 문제를 다시 호출하면 메모했던 결과를 그대로 가져온다.\n",
    "- 값을 기록해 놓는다는 점에서 캐싱\n"
   ]
  },
  {
   "cell_type": "markdown",
   "metadata": {},
   "source": [
    "### 피보나치 수 "
   ]
  },
  {
   "cell_type": "code",
   "execution_count": 10,
   "metadata": {},
   "outputs": [
    {
     "name": "stdout",
     "output_type": "stream",
     "text": [
      "2\n",
      "3\n",
      "5\n",
      "8\n",
      "13\n",
      "21\n",
      "34\n",
      "55\n",
      "55\n"
     ]
    }
   ],
   "source": [
    "\n",
    "d = [0]*100\n",
    "\n",
    "def fibo(x):\n",
    "    if x == 1 or x == 2:\n",
    "        return 1\n",
    "    \n",
    "    if d[x] != 0:\n",
    "        return d[x]\n",
    "    \n",
    "    d[x] = fibo(x - 1) + fibo(x - 2)\n",
    "    print(d[x])\n",
    "    \n",
    "    return d[x]\n",
    "\n",
    "print(fibo(10))"
   ]
  },
  {
   "cell_type": "markdown",
   "metadata": {},
   "source": [
    "### 피보나치 수 다이나믹으로 구현 시 호출되는 함수 "
   ]
  },
  {
   "cell_type": "code",
   "execution_count": 14,
   "metadata": {},
   "outputs": [
    {
     "name": "stdout",
     "output_type": "stream",
     "text": [
      "f(6) f(5) f(4) f(3) f(2) f(1) f(2) f(3) f(4) "
     ]
    },
    {
     "data": {
      "text/plain": [
       "8"
      ]
     },
     "execution_count": 14,
     "metadata": {},
     "output_type": "execute_result"
    }
   ],
   "source": [
    "f = [0] * 100\n",
    "\n",
    "def pibo(x):\n",
    "    print('f('+ str(x) + ')', end = ' ')\n",
    "    \n",
    "    if x == 1 or x == 2:\n",
    "        return 1\n",
    "    if f[x] != 0:\n",
    "        return d[x]\n",
    "    f[x] = pibo(x - 1) + pibo(x -2)\n",
    "    return f[x]\n",
    "\n",
    "pibo(6)"
   ]
  },
  {
   "cell_type": "markdown",
   "metadata": {},
   "source": [
    "### 효율적인 화폐구성 228p.\n"
   ]
  },
  {
   "cell_type": "code",
   "execution_count": null,
   "metadata": {},
   "outputs": [],
   "source": [
    "n, m = map(int, input().split())\n",
    "\n",
    "array = []\n",
    "for i in range(n):\n",
    "    array.append(n)\n",
    "    \n",
    "d = [10001] * (m + 1)\n",
    "\n",
    "d[0] = 0\n",
    "\n",
    "for i in range(n):\n",
    "    for j in range(array[i], m + 1):\n",
    "        if d[j - array[j]] != 10001:\n",
    "            d[j] = min(d[j], d[j - array[j]] + 1)\n",
    "\n",
    "if d[m] == 10001:\n",
    "    print(-1)\n",
    "else:\n",
    "    print(d[m])\n",
    "            "
   ]
  },
  {
   "cell_type": "markdown",
   "metadata": {},
   "source": [
    "### 피보나치 수열 2 - 백준 ( https://www.acmicpc.net/problem/2748 )"
   ]
  },
  {
   "cell_type": "code",
   "execution_count": 2,
   "metadata": {},
   "outputs": [
    {
     "name": "stdout",
     "output_type": "stream",
     "text": [
      "10\n",
      "55\n"
     ]
    }
   ],
   "source": [
    "# d[i] = d[i -2] + d[i - 1]\n",
    "\n",
    "n = int(input())\n",
    "\n",
    "d = [-1] * ( n + 1)\n",
    "d[0] = 0\n",
    "d[1] = 1\n",
    "\n",
    "for i in range(2, n + 1):\n",
    "    d[i] = d[i - 2] + d[i - 1]\n",
    "\n",
    "print(d[n])"
   ]
  },
  {
   "cell_type": "code",
   "execution_count": null,
   "metadata": {},
   "outputs": [],
   "source": []
  }
 ],
 "metadata": {
  "kernelspec": {
   "display_name": "Python 3",
   "language": "python",
   "name": "python3"
  },
  "language_info": {
   "codemirror_mode": {
    "name": "ipython",
    "version": 3
   },
   "file_extension": ".py",
   "mimetype": "text/x-python",
   "name": "python",
   "nbconvert_exporter": "python",
   "pygments_lexer": "ipython3",
   "version": "3.6.10"
  }
 },
 "nbformat": 4,
 "nbformat_minor": 4
}

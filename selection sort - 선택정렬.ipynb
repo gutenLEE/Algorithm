{
 "cells": [
  {
   "cell_type": "markdown",
   "metadata": {},
   "source": [
    "# 선택정렬 기본 코드"
   ]
  },
  {
   "cell_type": "code",
   "execution_count": 2,
   "metadata": {},
   "outputs": [
    {
     "name": "stdout",
     "output_type": "stream",
     "text": [
      "[17, 48, 2, 9, 38, 28, 37, 6]\n",
      "[2, 6, 9, 17, 28, 37, 38, 48]\n"
     ]
    }
   ],
   "source": [
    "import random\n",
    "\n",
    "arr = random.sample(range(1, 50), 8)\n",
    "print(arr)\n",
    "\n",
    "for i in range(len(arr) - 1):\n",
    "    \n",
    "    min_idx = i\n",
    "    \n",
    "    for j in range(i + 1, len(arr)):    \n",
    "        if arr[min_idx] > arr[j]:\n",
    "            min_idx = j\n",
    "            \n",
    "    arr[i], arr[min_idx] = arr[min_idx], arr[i]\n",
    "    \n",
    "print(arr)"
   ]
  },
  {
   "cell_type": "code",
   "execution_count": null,
   "metadata": {},
   "outputs": [],
   "source": []
  }
 ],
 "metadata": {
  "kernelspec": {
   "display_name": "Python 3",
   "language": "python",
   "name": "python3"
  },
  "language_info": {
   "codemirror_mode": {
    "name": "ipython",
    "version": 3
   },
   "file_extension": ".py",
   "mimetype": "text/x-python",
   "name": "python",
   "nbconvert_exporter": "python",
   "pygments_lexer": "ipython3",
   "version": "3.6.10"
  }
 },
 "nbformat": 4,
 "nbformat_minor": 4
}

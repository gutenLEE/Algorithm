{
 "cells": [
  {
   "cell_type": "markdown",
   "metadata": {},
   "source": [
    "# sorted(), sort() 함수\n",
    "\n",
    "## sort()\n",
    "별도의 정렬된 리스트가 반환되지 않고 내부 원소가 바로 정렬된다.\n",
    "\n",
    "## sorted()\n",
    "별도의 정렬된 리스트를 반환한다. \n",
    "\n",
    "## 정렬 라이브러리의 시간 복잡도\n",
    "\n",
    "최악의 경우에도 **O(NlogN)** 을 보장한다.\n",
    "대부분의 프로그래밍 언어에서 제공하는 표준 라이브러리의 기본 정렬 함수는 병합 정렬 혹은 퀵 정렬에 기반한다. \n",
    "\n",
    "\n",
    "## Key 매개변수\n",
    "key값으로는 하나의 함수가 들어가야 한다. 이는 **정렬 기준**이 된다. \n",
    "람다 함수도 사용 가능"
   ]
  },
  {
   "cell_type": "code",
   "execution_count": 2,
   "metadata": {},
   "outputs": [
    {
     "name": "stdout",
     "output_type": "stream",
     "text": [
      "[('바나나', 2), ('포도', 3), ('사과', 5)]\n"
     ]
    }
   ],
   "source": [
    "arr = [(\"바나나\", 2), (\"사과\", 5), (\"포도\", 3)]\n",
    "\n",
    "def setting(data):\n",
    "    return data[1]\n",
    "\n",
    "result = sorted(arr, key=setting)\n",
    "print(result)"
   ]
  },
  {
   "cell_type": "markdown",
   "metadata": {},
   "source": [
    "## 예제 - 성적이 낮은 순서로 학생 출력하기 (이것이 코딩테스트다 180p)"
   ]
  },
  {
   "cell_type": "code",
   "execution_count": 7,
   "metadata": {},
   "outputs": [
    {
     "name": "stdout",
     "output_type": "stream",
     "text": [
      "2\n",
      "홍길동 95\n",
      "이순신 77\n",
      "이순신 홍길동 "
     ]
    }
   ],
   "source": [
    "def setting(data):\n",
    "    return data[1]\n",
    "\n",
    "n = int(input())\n",
    "arr = []\n",
    "\n",
    "for i in range(n):\n",
    "    name, score = input().split()\n",
    "    arr.append((name, int(score)))\n",
    "\n",
    "result = sorted(arr, key = setting)\n",
    "\n",
    "# 람다 사용하면\n",
    "# result = sorted(arr, key = lambda student: student[1])\n",
    "\n",
    "for i in result:\n",
    "    print(i[0], end=' ')"
   ]
  },
  {
   "cell_type": "markdown",
   "metadata": {},
   "source": [
    "## 예제 - 두 배열의 원소 교체 ( 이.코 182p)"
   ]
  },
  {
   "cell_type": "code",
   "execution_count": null,
   "metadata": {},
   "outputs": [],
   "source": [
    "n, k = map(int, input().split())\n",
    "\n",
    "arrA = list(map(int, input().split()))\n",
    "arrB = list(map(int, input().split()))\n",
    "\n",
    "arrA.sort()\n",
    "arrB.sort(reverse = True)\n",
    "\n",
    "for i in range(k):\n",
    "    # 예외처리..... \n",
    "    if arrA[i] <= arrB[i]:\n",
    "        arrA[i] = arrB[i]\n",
    "        \n",
    "    # A의 원소가 B의 원소보다 크거나 같을 때, 반복문을 탈출\n",
    "    else:\n",
    "        break\n",
    "\n",
    "print(arrA)\n",
    "print(arrB)\n",
    "print(sum(arrA))"
   ]
  },
  {
   "cell_type": "code",
   "execution_count": null,
   "metadata": {},
   "outputs": [],
   "source": []
  }
 ],
 "metadata": {
  "kernelspec": {
   "display_name": "Python 3",
   "language": "python",
   "name": "python3"
  },
  "language_info": {
   "codemirror_mode": {
    "name": "ipython",
    "version": 3
   },
   "file_extension": ".py",
   "mimetype": "text/x-python",
   "name": "python",
   "nbconvert_exporter": "python",
   "pygments_lexer": "ipython3",
   "version": "3.6.10"
  }
 },
 "nbformat": 4,
 "nbformat_minor": 4
}

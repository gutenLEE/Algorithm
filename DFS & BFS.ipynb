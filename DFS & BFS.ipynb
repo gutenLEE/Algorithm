{
 "cells": [
  {
   "cell_type": "code",
   "execution_count": 1,
   "metadata": {},
   "outputs": [
    {
     "name": "stdout",
     "output_type": "stream",
     "text": [
      "else\n"
     ]
    }
   ],
   "source": [
    "arr = [1]\n",
    "a = 0\n",
    "b = 0\n",
    "\n",
    "if a and b not in arr:\n",
    "\tprint(\"a and b not in arr\")\n",
    "else:\n",
    "\tprint(\"else\")"
   ]
  },
  {
   "cell_type": "code",
   "execution_count": 5,
   "metadata": {},
   "outputs": [
    {
     "name": "stdout",
     "output_type": "stream",
     "text": [
      "a and b not in arr\n"
     ]
    }
   ],
   "source": [
    "arr = [1,2]\n",
    "a = 1\n",
    "b = 4\n",
    "\n",
    "if a and b not in arr:\n",
    "\tprint(\"a and b not in arr\")\n",
    "else:\n",
    "\tprint(\"else\")"
   ]
  },
  {
   "cell_type": "markdown",
   "metadata": {},
   "source": [
    "# DFS & BFS\n",
    "### 기본 코드"
   ]
  },
  {
   "cell_type": "code",
   "execution_count": 32,
   "metadata": {
    "scrolled": true
   },
   "outputs": [
    {
     "name": "stdout",
     "output_type": "stream",
     "text": [
      "4 5 1\n",
      "1 2\n",
      "1 3\n",
      "1 4\n",
      "2 4\n",
      "3 4\n",
      "[1, 2, 4, 3]\n",
      "[0, 0, 1, 1, 1]\n",
      "[0, 0, 1, 1, 1]\n",
      "[0, 0, 1, 1, 1]\n",
      "visited :  [1, 2]\n",
      "queue :  [2]\n",
      "[0, 0, 1, 1, 1]\n",
      "visited :  [1, 2, 3]\n",
      "queue :  [2, 3]\n",
      "[0, 0, 1, 1, 1]\n",
      "visited :  [1, 2, 3, 4]\n",
      "queue :  [2, 3, 4]\n",
      "[0, 1, 0, 0, 1]\n",
      "[0, 1, 0, 0, 1]\n",
      "[0, 1, 0, 0, 1]\n",
      "[0, 1, 0, 0, 1]\n",
      "[0, 1, 0, 0, 1]\n",
      "[0, 1, 0, 0, 1]\n",
      "[0, 1, 0, 0, 1]\n",
      "[0, 1, 0, 0, 1]\n",
      "[0, 1, 0, 0, 1]\n",
      "[0, 1, 0, 0, 1]\n",
      "[0, 1, 1, 1, 0]\n",
      "[0, 1, 1, 1, 0]\n",
      "[0, 1, 1, 1, 0]\n",
      "[0, 1, 1, 1, 0]\n",
      "[0, 1, 1, 1, 0]\n",
      "[1, 2, 3, 4]\n"
     ]
    }
   ],
   "source": [
    "from collections import deque\n",
    "\n",
    "N, M, V = map(int, input().split())\n",
    "\n",
    "# N = node 개수\n",
    "graph = [[0] * (N + 1) for _ in range(N + 1)]\n",
    "\n",
    "# M = 간선 개수\n",
    "# 인접행렬 생성\n",
    "for i in range(M):\n",
    "    x, y = map(int, input().split())\n",
    "    graph[x][y] = 1\n",
    "    graph[y][x] = 1\n",
    "    \n",
    "\n",
    "def dfs(V, graph, visited):\n",
    "    \n",
    "    visited += [V]\n",
    "    for i in range(len(graph[V])):\n",
    "        if graph[V][i] and i not in visited:\n",
    "            visited = dfs(i, graph, visited)\n",
    "            \n",
    "    return visited\n",
    "\n",
    "\n",
    "def bfs(start):\n",
    "    \n",
    "    queue = [start]\n",
    "    visited = [start]\n",
    "    \n",
    "    #큐가 빌 때까지 반복\n",
    "    while queue:\n",
    "        \n",
    "        #큐에서 현재 노드 빼기\n",
    "        V = queue.pop(0)\n",
    "        \n",
    "        for i in range(len(graph[V])):\n",
    "            print(graph[V])\n",
    "            #방문하지 않은 노드 [방문처리, 큐]에 추가\n",
    "            if graph[V][i] and i not in visited:\n",
    "                visited += [i]\n",
    "                queue += [i]\n",
    "                print(\"visited : \" , visited)\n",
    "                print(\"queue : \", queue)\n",
    "                \n",
    "    return visited\n",
    "        \n",
    "\n",
    "print( dfs(V, graph, []) )\n",
    "print( bfs(V) )\n",
    "\n",
    "    "
   ]
  },
  {
   "cell_type": "markdown",
   "metadata": {},
   "source": [
    "#### 코테 교재, 149 페이지\n",
    "\n",
    "# 음료수 얼려먹기"
   ]
  },
  {
   "cell_type": "code",
   "execution_count": 37,
   "metadata": {
    "scrolled": true
   },
   "outputs": [
    {
     "name": "stdout",
     "output_type": "stream",
     "text": [
      "4 5\n",
      "00110\n",
      "00011\n",
      "11111\n",
      "00000\n",
      "[[0, 0, 1, 1, 0], [0, 0, 0, 1, 1], [1, 1, 1, 1, 1], [0, 0, 0, 0, 0]]\n",
      "-1 0\n",
      "1 0\n",
      "0 -1\n",
      "0 1\n",
      " ============================== \n",
      "0 0\n",
      "2 0\n",
      "1 -1\n",
      "1 1\n",
      " ============================== \n",
      "0 1\n",
      "2 1\n",
      "1 0\n",
      "1 2\n",
      " ============================== \n",
      "-1 1\n",
      "1 1\n",
      "0 0\n",
      "0 2\n",
      " ============================== \n",
      "0 2\n",
      "2 2\n",
      "1 1\n",
      "1 3\n",
      " ============================== \n",
      "-1 4\n",
      "1 4\n",
      "0 3\n",
      "0 5\n",
      " ============================== \n",
      "2 0\n",
      "4 0\n",
      "3 -1\n",
      "3 1\n",
      " ============================== \n",
      "2 1\n",
      "4 1\n",
      "3 0\n",
      "3 2\n",
      " ============================== \n",
      "2 2\n",
      "4 2\n",
      "3 1\n",
      "3 3\n",
      " ============================== \n",
      "2 3\n",
      "4 3\n",
      "3 2\n",
      "3 4\n",
      " ============================== \n",
      "2 4\n",
      "4 4\n",
      "3 3\n",
      "3 5\n",
      " ============================== \n",
      "3\n"
     ]
    }
   ],
   "source": [
    "n, m = map(int, input().split())\n",
    "\n",
    "graph = []\n",
    "\n",
    "for i in range(n):\n",
    "    graph.append(list(map(int, input())))\n",
    "\n",
    "print(graph)\n",
    "\n",
    "def dfs(x, y):\n",
    "    if x <= -1 or x >= n or y <= -1 or y >= m:\n",
    "        return False\n",
    "    \n",
    "    if graph[x][y] == 0:\n",
    "        graph[x][y] = 1\n",
    "        \n",
    "        print(x - 1, y)\n",
    "        print(x + 1, y)\n",
    "        print(x, y - 1)\n",
    "        print(x, y + 1)\n",
    "        print(\" ============================== \")\n",
    "        dfs(x - 1, y)\n",
    "        dfs(x + 1, y)\n",
    "        dfs(x, y - 1)\n",
    "        dfs(x, y + 1)\n",
    "        return True\n",
    "    \n",
    "    return False\n",
    "\n",
    "result = 0\n",
    "for i in range(n):\n",
    "    for j in range(m):\n",
    "        if dfs(i, j) == True:\n",
    "            result += 1\n",
    "\n",
    "print(result)\n",
    "\n",
    "\n",
    "\n"
   ]
  },
  {
   "cell_type": "markdown",
   "metadata": {},
   "source": [
    "# 153p. 미로탈출 / BFS 예제"
   ]
  },
  {
   "cell_type": "code",
   "execution_count": 6,
   "metadata": {},
   "outputs": [
    {
     "name": "stdout",
     "output_type": "stream",
     "text": [
      "5 6\n",
      "101010\n",
      "111111\n",
      "000001\n",
      "111111\n",
      "111111\n",
      "10\n"
     ]
    }
   ],
   "source": [
    "from collections import deque\n",
    "n, m = map(int, input().split())\n",
    "\n",
    "graph = []\n",
    "for i in range(n):\n",
    "    graph.append( list( map(int, input())) )\n",
    "\n",
    "    dx = [-1, 1, 0, 0]\n",
    "    dy = [0, 0, -1, 1]\n",
    "\n",
    "def bfs(x, y):\n",
    "    \n",
    "    queue = deque()\n",
    "    queue.append((x, y))\n",
    "    \n",
    "    while queue:\n",
    "        \n",
    "        x, y = queue.popleft()\n",
    "        \n",
    "        for i in range(len(dx)):\n",
    "\n",
    "            nx = x + dx[i]\n",
    "            ny = y + dy[i]\n",
    "\n",
    "            if nx < 0 or ny < 0 or nx >= n or ny >= m:\n",
    "                continue\n",
    "\n",
    "            if graph[nx][ny] == 0:\n",
    "                continue\n",
    "\n",
    "            if graph[nx][ny] == 1:\n",
    "\n",
    "                graph[nx][ny] = graph[x][y] + 1\n",
    "                queue.append((nx, ny))\n",
    "\n",
    "    return graph[n-1][m-1]\n",
    "\n",
    "\n",
    "print(bfs(0, 0))\n",
    "    \n",
    "    "
   ]
  },
  {
   "cell_type": "markdown",
   "metadata": {},
   "source": [
    "# DFS & BFS \n",
    "\n",
    "### 백준 - 바이러스\n",
    "\n",
    "https://www.acmicpc.net/problem/2606"
   ]
  },
  {
   "cell_type": "code",
   "execution_count": null,
   "metadata": {},
   "outputs": [],
   "source": [
    "n = int(input())\n",
    "m = int(input())\n",
    "\n",
    "graph = [[0] * (n + 1) for _ in range(n + 1)]\n",
    "\n",
    "for i in range(m):\n",
    "    x, y = map(int, input().split())\n",
    "    graph[x][y] = 1\n",
    "    graph[y][x] = 1\n",
    "\n",
    "def dfs(v, graph, visited):\n",
    "    \n",
    "    visited += [v]\n",
    "    \n",
    "    for i in range(len(graph[v])):\n",
    "        \n",
    "        if graphp[v][i] and i not in visited:\n",
    "            visited = dfs(i, graph, visited)\n",
    "    \n",
    "    return len(visited)\n",
    "\n",
    "print(dfs(1, graph, []))\n",
    "\n",
    "    \n",
    "   "
   ]
  }
 ],
 "metadata": {
  "kernelspec": {
   "display_name": "Python 3",
   "language": "python",
   "name": "python3"
  },
  "language_info": {
   "codemirror_mode": {
    "name": "ipython",
    "version": 3
   },
   "file_extension": ".py",
   "mimetype": "text/x-python",
   "name": "python",
   "nbconvert_exporter": "python",
   "pygments_lexer": "ipython3",
   "version": "3.6.10"
  }
 },
 "nbformat": 4,
 "nbformat_minor": 4
}
